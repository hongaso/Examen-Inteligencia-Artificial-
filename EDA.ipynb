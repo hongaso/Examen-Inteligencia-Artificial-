{
 "cells": [
  {
   "cell_type": "code",
   "execution_count": 168,
   "id": "22bb333c-15fa-4423-949f-bf81fb5f700e",
   "metadata": {
    "ExecuteTime": {
     "end_time": "2022-04-11T05:00:06.053816Z",
     "start_time": "2022-04-11T05:00:06.046819Z"
    }
   },
   "outputs": [],
   "source": [
    "import pandas as pd\n",
    "import numpy as np"
   ]
  },
  {
   "cell_type": "code",
   "execution_count": 169,
   "id": "fff59414-a73e-4e27-80ac-1684d5f21015",
   "metadata": {
    "ExecuteTime": {
     "end_time": "2022-04-11T05:00:06.532995Z",
     "start_time": "2022-04-11T05:00:06.202470Z"
    }
   },
   "outputs": [],
   "source": [
    "vdf = pd.read_csv('fruitvegprices-2017_2022.csv')"
   ]
  },
  {
   "cell_type": "code",
   "execution_count": 170,
   "id": "6c6b0dae-14f0-4c7c-955e-4c7e08e287c7",
   "metadata": {
    "ExecuteTime": {
     "end_time": "2022-04-11T05:00:06.720025Z",
     "start_time": "2022-04-11T05:00:06.536000Z"
    }
   },
   "outputs": [
    {
     "data": {
      "text/html": [
       "<div>\n",
       "<style scoped>\n",
       "    .dataframe tbody tr th:only-of-type {\n",
       "        vertical-align: middle;\n",
       "    }\n",
       "\n",
       "    .dataframe tbody tr th {\n",
       "        vertical-align: top;\n",
       "    }\n",
       "\n",
       "    .dataframe thead th {\n",
       "        text-align: right;\n",
       "    }\n",
       "</style>\n",
       "<table border=\"1\" class=\"dataframe\">\n",
       "  <thead>\n",
       "    <tr style=\"text-align: right;\">\n",
       "      <th></th>\n",
       "      <th>category</th>\n",
       "      <th>item</th>\n",
       "      <th>variety</th>\n",
       "      <th>date</th>\n",
       "      <th>price</th>\n",
       "      <th>unit</th>\n",
       "    </tr>\n",
       "  </thead>\n",
       "  <tbody>\n",
       "    <tr>\n",
       "      <th>0</th>\n",
       "      <td>fruit</td>\n",
       "      <td>apples</td>\n",
       "      <td>bramleys_seedling</td>\n",
       "      <td>2022-03-11</td>\n",
       "      <td>2.05</td>\n",
       "      <td>kg</td>\n",
       "    </tr>\n",
       "    <tr>\n",
       "      <th>1</th>\n",
       "      <td>fruit</td>\n",
       "      <td>apples</td>\n",
       "      <td>coxs_orange_group</td>\n",
       "      <td>2022-03-11</td>\n",
       "      <td>1.22</td>\n",
       "      <td>kg</td>\n",
       "    </tr>\n",
       "    <tr>\n",
       "      <th>2</th>\n",
       "      <td>fruit</td>\n",
       "      <td>apples</td>\n",
       "      <td>egremont_russet</td>\n",
       "      <td>2022-03-11</td>\n",
       "      <td>1.14</td>\n",
       "      <td>kg</td>\n",
       "    </tr>\n",
       "    <tr>\n",
       "      <th>3</th>\n",
       "      <td>fruit</td>\n",
       "      <td>apples</td>\n",
       "      <td>braeburn</td>\n",
       "      <td>2022-03-11</td>\n",
       "      <td>1.05</td>\n",
       "      <td>kg</td>\n",
       "    </tr>\n",
       "    <tr>\n",
       "      <th>4</th>\n",
       "      <td>fruit</td>\n",
       "      <td>apples</td>\n",
       "      <td>gala</td>\n",
       "      <td>2022-03-11</td>\n",
       "      <td>1.03</td>\n",
       "      <td>kg</td>\n",
       "    </tr>\n",
       "    <tr>\n",
       "      <th>...</th>\n",
       "      <td>...</td>\n",
       "      <td>...</td>\n",
       "      <td>...</td>\n",
       "      <td>...</td>\n",
       "      <td>...</td>\n",
       "      <td>...</td>\n",
       "    </tr>\n",
       "    <tr>\n",
       "      <th>9642</th>\n",
       "      <td>cut_flowers</td>\n",
       "      <td>alstromeria</td>\n",
       "      <td>indoor</td>\n",
       "      <td>2017-11-03</td>\n",
       "      <td>0.27</td>\n",
       "      <td>stem</td>\n",
       "    </tr>\n",
       "    <tr>\n",
       "      <th>9643</th>\n",
       "      <td>cut_flowers</td>\n",
       "      <td>chrysanthemum</td>\n",
       "      <td>indoor_spray</td>\n",
       "      <td>2017-11-03</td>\n",
       "      <td>0.22</td>\n",
       "      <td>stem</td>\n",
       "    </tr>\n",
       "    <tr>\n",
       "      <th>9644</th>\n",
       "      <td>cut_flowers</td>\n",
       "      <td>lillies</td>\n",
       "      <td>oriental</td>\n",
       "      <td>2017-11-03</td>\n",
       "      <td>0.70</td>\n",
       "      <td>stem</td>\n",
       "    </tr>\n",
       "    <tr>\n",
       "      <th>9645</th>\n",
       "      <td>cut_flowers</td>\n",
       "      <td>narcissus</td>\n",
       "      <td>indoor</td>\n",
       "      <td>2017-11-03</td>\n",
       "      <td>0.06</td>\n",
       "      <td>stem</td>\n",
       "    </tr>\n",
       "    <tr>\n",
       "      <th>9646</th>\n",
       "      <td>pot_plants</td>\n",
       "      <td>cyclamen</td>\n",
       "      <td>13_cm</td>\n",
       "      <td>2017-11-03</td>\n",
       "      <td>0.75</td>\n",
       "      <td>unit</td>\n",
       "    </tr>\n",
       "  </tbody>\n",
       "</table>\n",
       "<p>9647 rows × 6 columns</p>\n",
       "</div>"
      ],
      "text/plain": [
       "         category           item            variety        date  price  unit\n",
       "0           fruit         apples  bramleys_seedling  2022-03-11   2.05    kg\n",
       "1           fruit         apples  coxs_orange_group  2022-03-11   1.22    kg\n",
       "2           fruit         apples    egremont_russet  2022-03-11   1.14    kg\n",
       "3           fruit         apples           braeburn  2022-03-11   1.05    kg\n",
       "4           fruit         apples               gala  2022-03-11   1.03    kg\n",
       "...           ...            ...                ...         ...    ...   ...\n",
       "9642  cut_flowers    alstromeria             indoor  2017-11-03   0.27  stem\n",
       "9643  cut_flowers  chrysanthemum       indoor_spray  2017-11-03   0.22  stem\n",
       "9644  cut_flowers        lillies           oriental  2017-11-03   0.70  stem\n",
       "9645  cut_flowers      narcissus             indoor  2017-11-03   0.06  stem\n",
       "9646   pot_plants       cyclamen              13_cm  2017-11-03   0.75  unit\n",
       "\n",
       "[9647 rows x 6 columns]"
      ]
     },
     "execution_count": 170,
     "metadata": {},
     "output_type": "execute_result"
    }
   ],
   "source": [
    "vdf"
   ]
  },
  {
   "cell_type": "markdown",
   "id": "dc42ff16-f208-4782-b9b8-944a59d16961",
   "metadata": {},
   "source": [
    "## Ejercicios"
   ]
  },
  {
   "cell_type": "markdown",
   "id": "5f974629-c2d2-46ad-86e2-8ed3366fc74b",
   "metadata": {},
   "source": [
    "### Ejercicio uno: realice un analisis de valores nulos\n",
    "\n",
    "En caso de existir valores nulos elimine esos registros"
   ]
  },
  {
   "cell_type": "code",
   "execution_count": 171,
   "id": "9b4e5f2f-3477-4cec-afab-51e40ef0b2eb",
   "metadata": {
    "ExecuteTime": {
     "end_time": "2022-04-11T05:00:06.983192Z",
     "start_time": "2022-04-11T05:00:06.962663Z"
    }
   },
   "outputs": [
    {
     "data": {
      "text/plain": [
       "category    0\n",
       "item        0\n",
       "variety     0\n",
       "date        0\n",
       "price       0\n",
       "unit        0\n",
       "dtype: int64"
      ]
     },
     "execution_count": 171,
     "metadata": {},
     "output_type": "execute_result"
    }
   ],
   "source": [
    "vdf.isnull().sum()"
   ]
  },
  {
   "cell_type": "markdown",
   "id": "29ce0f74-b6a8-40cb-90d9-a2032bb2eacc",
   "metadata": {},
   "source": [
    "### Ejercicio dos: Por categoria, cuantos distintos items hay y cuantos distintos variety hay?\n",
    "\n",
    "El resultado debe de tener el siguiente formato de presentacion:"
   ]
  },
  {
   "cell_type": "code",
   "execution_count": 172,
   "id": "80dfe19b-71f2-4107-b639-07d91ab50a91",
   "metadata": {
    "ExecuteTime": {
     "end_time": "2022-04-11T05:00:07.353212Z",
     "start_time": "2022-04-11T05:00:07.332222Z"
    }
   },
   "outputs": [
    {
     "data": {
      "text/html": [
       "<div>\n",
       "<style scoped>\n",
       "    .dataframe tbody tr th:only-of-type {\n",
       "        vertical-align: middle;\n",
       "    }\n",
       "\n",
       "    .dataframe tbody tr th {\n",
       "        vertical-align: top;\n",
       "    }\n",
       "\n",
       "    .dataframe thead th {\n",
       "        text-align: right;\n",
       "    }\n",
       "</style>\n",
       "<table border=\"1\" class=\"dataframe\">\n",
       "  <thead>\n",
       "    <tr style=\"text-align: right;\">\n",
       "      <th></th>\n",
       "      <th>category</th>\n",
       "      <th>item_count</th>\n",
       "      <th>variety_Count</th>\n",
       "    </tr>\n",
       "  </thead>\n",
       "  <tbody>\n",
       "    <tr>\n",
       "      <th>0</th>\n",
       "      <td>cut_flowers</td>\n",
       "      <td>9</td>\n",
       "      <td>10</td>\n",
       "    </tr>\n",
       "    <tr>\n",
       "      <th>1</th>\n",
       "      <td>fruit</td>\n",
       "      <td>10</td>\n",
       "      <td>21</td>\n",
       "    </tr>\n",
       "  </tbody>\n",
       "</table>\n",
       "</div>"
      ],
      "text/plain": [
       "      category  item_count  variety_Count\n",
       "0  cut_flowers           9             10\n",
       "1        fruit          10             21"
      ]
     },
     "execution_count": 172,
     "metadata": {},
     "output_type": "execute_result"
    }
   ],
   "source": [
    "pd.DataFrame({\n",
    "    \"category\" : ['cut_flowers','fruit']\n",
    "    , \"item_count\" : [9,10]\n",
    "    , \"variety_Count\" : [10,21]\n",
    "})"
   ]
  },
  {
   "cell_type": "markdown",
   "id": "59e6f7f6-5a1d-4e24-bbbf-49c71a71e329",
   "metadata": {},
   "source": [
    "Como nota en un mismo dataframe mostramos todo lo solicitado, usted debe de mostrar todas las categorias"
   ]
  },
  {
   "cell_type": "code",
   "execution_count": 173,
   "id": "4775a64f",
   "metadata": {
    "ExecuteTime": {
     "end_time": "2022-04-11T05:00:07.725677Z",
     "start_time": "2022-04-11T05:00:07.690781Z"
    }
   },
   "outputs": [
    {
     "data": {
      "text/html": [
       "<div>\n",
       "<style scoped>\n",
       "    .dataframe tbody tr th:only-of-type {\n",
       "        vertical-align: middle;\n",
       "    }\n",
       "\n",
       "    .dataframe tbody tr th {\n",
       "        vertical-align: top;\n",
       "    }\n",
       "\n",
       "    .dataframe thead th {\n",
       "        text-align: right;\n",
       "    }\n",
       "</style>\n",
       "<table border=\"1\" class=\"dataframe\">\n",
       "  <thead>\n",
       "    <tr style=\"text-align: right;\">\n",
       "      <th></th>\n",
       "      <th>category</th>\n",
       "      <th>item</th>\n",
       "      <th>variety</th>\n",
       "    </tr>\n",
       "  </thead>\n",
       "  <tbody>\n",
       "    <tr>\n",
       "      <th>0</th>\n",
       "      <td>cut_flowers</td>\n",
       "      <td>342</td>\n",
       "      <td>342</td>\n",
       "    </tr>\n",
       "    <tr>\n",
       "      <th>1</th>\n",
       "      <td>fruit</td>\n",
       "      <td>1992</td>\n",
       "      <td>1992</td>\n",
       "    </tr>\n",
       "    <tr>\n",
       "      <th>2</th>\n",
       "      <td>pot_plants</td>\n",
       "      <td>49</td>\n",
       "      <td>49</td>\n",
       "    </tr>\n",
       "    <tr>\n",
       "      <th>3</th>\n",
       "      <td>vegetable</td>\n",
       "      <td>7264</td>\n",
       "      <td>7264</td>\n",
       "    </tr>\n",
       "  </tbody>\n",
       "</table>\n",
       "</div>"
      ],
      "text/plain": [
       "      category  item  variety\n",
       "0  cut_flowers   342      342\n",
       "1        fruit  1992     1992\n",
       "2   pot_plants    49       49\n",
       "3    vegetable  7264     7264"
      ]
     },
     "execution_count": 173,
     "metadata": {},
     "output_type": "execute_result"
    }
   ],
   "source": [
    "x = vdf.loc[:,[\"category\", \"item\", \"variety\"]].drop_duplicates()\n",
    "x = vdf.groupby([\"category\"], as_index=False).agg({\n",
    "    \"item\": \"count\",\n",
    "    \"variety\" : \"count\"\n",
    "})\n",
    "x"
   ]
  },
  {
   "cell_type": "markdown",
   "id": "74d700c1-351e-4e03-b319-4aabd9346cf3",
   "metadata": {},
   "source": [
    "### Ejercicio tres: Para la combinacion item, variety muestre el ultimo valor registrado por año.\n",
    "\n",
    "Ejemplo de como debe de mostrar su respuesta"
   ]
  },
  {
   "cell_type": "code",
   "execution_count": 174,
   "id": "4c36623d-c6e1-4d4d-b97c-ad03b5d2df3e",
   "metadata": {
    "ExecuteTime": {
     "end_time": "2022-04-11T05:00:08.097118Z",
     "start_time": "2022-04-11T05:00:08.078748Z"
    }
   },
   "outputs": [
    {
     "data": {
      "text/html": [
       "<div>\n",
       "<style scoped>\n",
       "    .dataframe tbody tr th:only-of-type {\n",
       "        vertical-align: middle;\n",
       "    }\n",
       "\n",
       "    .dataframe tbody tr th {\n",
       "        vertical-align: top;\n",
       "    }\n",
       "\n",
       "    .dataframe thead th {\n",
       "        text-align: right;\n",
       "    }\n",
       "</style>\n",
       "<table border=\"1\" class=\"dataframe\">\n",
       "  <thead>\n",
       "    <tr style=\"text-align: right;\">\n",
       "      <th></th>\n",
       "      <th>item</th>\n",
       "      <th>variety</th>\n",
       "      <th>year</th>\n",
       "      <th>last_price</th>\n",
       "    </tr>\n",
       "  </thead>\n",
       "  <tbody>\n",
       "    <tr>\n",
       "      <th>0</th>\n",
       "      <td>Manzana</td>\n",
       "      <td>Gala</td>\n",
       "      <td>2022</td>\n",
       "      <td>3.2</td>\n",
       "    </tr>\n",
       "  </tbody>\n",
       "</table>\n",
       "</div>"
      ],
      "text/plain": [
       "      item variety  year  last_price\n",
       "0  Manzana    Gala  2022         3.2"
      ]
     },
     "execution_count": 174,
     "metadata": {},
     "output_type": "execute_result"
    }
   ],
   "source": [
    "pd.DataFrame({\n",
    "    \"item\" : ['Manzana']\n",
    "    , \"variety\" : ['Gala']\n",
    "    , \"year\" : [2022]\n",
    "    , \"last_price\" :  [3.2]\n",
    "})"
   ]
  },
  {
   "cell_type": "code",
   "execution_count": 175,
   "id": "34302bf0",
   "metadata": {
    "ExecuteTime": {
     "end_time": "2022-04-11T05:00:08.329806Z",
     "start_time": "2022-04-11T05:00:08.270403Z"
    },
    "scrolled": true
   },
   "outputs": [
    {
     "data": {
      "text/plain": [
       "0       2.05\n",
       "1       1.22\n",
       "2       1.14\n",
       "3       1.05\n",
       "4       1.03\n",
       "        ... \n",
       "9642    0.27\n",
       "9643    0.22\n",
       "9644    0.70\n",
       "9645    0.06\n",
       "9646    0.75\n",
       "Name: last_price, Length: 9647, dtype: float64"
      ]
     },
     "execution_count": 175,
     "metadata": {},
     "output_type": "execute_result"
    }
   ],
   "source": [
    "vdf[\"last_price\"] = vdf[\"price\"]\n",
    "vdf[\"last_price\"]"
   ]
  },
  {
   "cell_type": "code",
   "execution_count": 216,
   "id": "2572ed4a",
   "metadata": {
    "ExecuteTime": {
     "end_time": "2022-04-11T05:23:20.815639Z",
     "start_time": "2022-04-11T05:23:20.792349Z"
    }
   },
   "outputs": [],
   "source": [
    "vdf[\"year\"] = pd.DatetimeIndex(vdf[\"date\"]).year"
   ]
  },
  {
   "cell_type": "code",
   "execution_count": 217,
   "id": "e39659af",
   "metadata": {
    "ExecuteTime": {
     "end_time": "2022-04-11T05:23:21.002523Z",
     "start_time": "2022-04-11T05:23:20.989531Z"
    }
   },
   "outputs": [],
   "source": [
    "x2 = vdf"
   ]
  },
  {
   "cell_type": "code",
   "execution_count": 218,
   "id": "d8e5c92b",
   "metadata": {
    "ExecuteTime": {
     "end_time": "2022-04-11T05:23:21.204512Z",
     "start_time": "2022-04-11T05:23:21.184940Z"
    }
   },
   "outputs": [],
   "source": [
    "x2 = x2.sort_values(\"date\",ascending=False)"
   ]
  },
  {
   "cell_type": "code",
   "execution_count": 219,
   "id": "5f600ec1",
   "metadata": {
    "ExecuteTime": {
     "end_time": "2022-04-11T05:23:21.390907Z",
     "start_time": "2022-04-11T05:23:21.357926Z"
    }
   },
   "outputs": [],
   "source": [
    "x2 = vdf.loc[ : , [\"item\",\"variety\",\"date\",\"year\",\"last_price\"]].groupby([\"item\",\"variety\",\"year\"], as_index = False).head(1)"
   ]
  },
  {
   "cell_type": "code",
   "execution_count": 222,
   "id": "f612400c",
   "metadata": {
    "ExecuteTime": {
     "end_time": "2022-04-11T05:24:01.315188Z",
     "start_time": "2022-04-11T05:24:01.294581Z"
    }
   },
   "outputs": [],
   "source": [
    "x2 = x2.drop(columns = \"date\")"
   ]
  },
  {
   "cell_type": "code",
   "execution_count": 223,
   "id": "d1ba94e0",
   "metadata": {
    "ExecuteTime": {
     "end_time": "2022-04-11T05:24:02.835441Z",
     "start_time": "2022-04-11T05:24:02.820727Z"
    }
   },
   "outputs": [],
   "source": [
    "x2 = x2.sort_values([\"item\",\"year\"])"
   ]
  },
  {
   "cell_type": "code",
   "execution_count": 224,
   "id": "7d4905ae",
   "metadata": {
    "ExecuteTime": {
     "end_time": "2022-04-11T05:24:03.626927Z",
     "start_time": "2022-04-11T05:24:03.598990Z"
    }
   },
   "outputs": [
    {
     "data": {
      "text/html": [
       "<div>\n",
       "<style scoped>\n",
       "    .dataframe tbody tr th:only-of-type {\n",
       "        vertical-align: middle;\n",
       "    }\n",
       "\n",
       "    .dataframe tbody tr th {\n",
       "        vertical-align: top;\n",
       "    }\n",
       "\n",
       "    .dataframe thead th {\n",
       "        text-align: right;\n",
       "    }\n",
       "</style>\n",
       "<table border=\"1\" class=\"dataframe\">\n",
       "  <thead>\n",
       "    <tr style=\"text-align: right;\">\n",
       "      <th></th>\n",
       "      <th>item</th>\n",
       "      <th>variety</th>\n",
       "      <th>year</th>\n",
       "      <th>last_price</th>\n",
       "    </tr>\n",
       "  </thead>\n",
       "  <tbody>\n",
       "    <tr>\n",
       "      <th>9304</th>\n",
       "      <td>alstromeria</td>\n",
       "      <td>indoor</td>\n",
       "      <td>2017</td>\n",
       "      <td>0.27</td>\n",
       "    </tr>\n",
       "    <tr>\n",
       "      <th>6945</th>\n",
       "      <td>alstromeria</td>\n",
       "      <td>indoor</td>\n",
       "      <td>2018</td>\n",
       "      <td>0.33</td>\n",
       "    </tr>\n",
       "    <tr>\n",
       "      <th>9275</th>\n",
       "      <td>apples</td>\n",
       "      <td>braeburn</td>\n",
       "      <td>2017</td>\n",
       "      <td>0.71</td>\n",
       "    </tr>\n",
       "    <tr>\n",
       "      <th>9274</th>\n",
       "      <td>apples</td>\n",
       "      <td>egremont_russet</td>\n",
       "      <td>2017</td>\n",
       "      <td>0.86</td>\n",
       "    </tr>\n",
       "    <tr>\n",
       "      <th>9277</th>\n",
       "      <td>apples</td>\n",
       "      <td>other_late_season</td>\n",
       "      <td>2017</td>\n",
       "      <td>0.88</td>\n",
       "    </tr>\n",
       "    <tr>\n",
       "      <th>...</th>\n",
       "      <td>...</td>\n",
       "      <td>...</td>\n",
       "      <td>...</td>\n",
       "      <td>...</td>\n",
       "    </tr>\n",
       "    <tr>\n",
       "      <th>345</th>\n",
       "      <td>turnip</td>\n",
       "      <td>turnip</td>\n",
       "      <td>2021</td>\n",
       "      <td>1.28</td>\n",
       "    </tr>\n",
       "    <tr>\n",
       "      <th>27</th>\n",
       "      <td>turnip</td>\n",
       "      <td>turnip</td>\n",
       "      <td>2022</td>\n",
       "      <td>0.63</td>\n",
       "    </tr>\n",
       "    <tr>\n",
       "      <th>9303</th>\n",
       "      <td>watercress</td>\n",
       "      <td>pillow_packs</td>\n",
       "      <td>2017</td>\n",
       "      <td>10.82</td>\n",
       "    </tr>\n",
       "    <tr>\n",
       "      <th>6944</th>\n",
       "      <td>watercress</td>\n",
       "      <td>pillow_packs</td>\n",
       "      <td>2018</td>\n",
       "      <td>7.35</td>\n",
       "    </tr>\n",
       "    <tr>\n",
       "      <th>5495</th>\n",
       "      <td>watercress</td>\n",
       "      <td>pillow_packs</td>\n",
       "      <td>2019</td>\n",
       "      <td>10.14</td>\n",
       "    </tr>\n",
       "  </tbody>\n",
       "</table>\n",
       "<p>397 rows × 4 columns</p>\n",
       "</div>"
      ],
      "text/plain": [
       "             item            variety  year  last_price\n",
       "9304  alstromeria             indoor  2017        0.27\n",
       "6945  alstromeria             indoor  2018        0.33\n",
       "9275       apples           braeburn  2017        0.71\n",
       "9274       apples    egremont_russet  2017        0.86\n",
       "9277       apples  other_late_season  2017        0.88\n",
       "...           ...                ...   ...         ...\n",
       "345        turnip             turnip  2021        1.28\n",
       "27         turnip             turnip  2022        0.63\n",
       "9303   watercress       pillow_packs  2017       10.82\n",
       "6944   watercress       pillow_packs  2018        7.35\n",
       "5495   watercress       pillow_packs  2019       10.14\n",
       "\n",
       "[397 rows x 4 columns]"
      ]
     },
     "execution_count": 224,
     "metadata": {},
     "output_type": "execute_result"
    }
   ],
   "source": [
    "x2"
   ]
  },
  {
   "cell_type": "markdown",
   "id": "d6539b13-ca3b-4270-a707-5353ea763167",
   "metadata": {},
   "source": [
    "### Ejercicio cuatro: Segun el ejercicio tres, que tanto aumento o disminuyo el precio de cada item-variety \n",
    "\n",
    "Ejemplo de como se debe de mostrar su respuesta"
   ]
  },
  {
   "cell_type": "code",
   "execution_count": 146,
   "id": "88f4e8d0-09ba-4e99-9424-4a435c6d72fc",
   "metadata": {
    "ExecuteTime": {
     "end_time": "2022-04-11T04:43:41.359705Z",
     "start_time": "2022-04-11T04:43:41.336199Z"
    }
   },
   "outputs": [
    {
     "data": {
      "text/html": [
       "<div>\n",
       "<style scoped>\n",
       "    .dataframe tbody tr th:only-of-type {\n",
       "        vertical-align: middle;\n",
       "    }\n",
       "\n",
       "    .dataframe tbody tr th {\n",
       "        vertical-align: top;\n",
       "    }\n",
       "\n",
       "    .dataframe thead th {\n",
       "        text-align: right;\n",
       "    }\n",
       "</style>\n",
       "<table border=\"1\" class=\"dataframe\">\n",
       "  <thead>\n",
       "    <tr style=\"text-align: right;\">\n",
       "      <th></th>\n",
       "      <th>item</th>\n",
       "      <th>variety</th>\n",
       "      <th>year</th>\n",
       "      <th>last_price</th>\n",
       "      <th>delta</th>\n",
       "    </tr>\n",
       "  </thead>\n",
       "  <tbody>\n",
       "    <tr>\n",
       "      <th>0</th>\n",
       "      <td>Manzana</td>\n",
       "      <td>Gala</td>\n",
       "      <td>2020</td>\n",
       "      <td>2.7</td>\n",
       "      <td>0.0</td>\n",
       "    </tr>\n",
       "    <tr>\n",
       "      <th>1</th>\n",
       "      <td>Manzana</td>\n",
       "      <td>Gala</td>\n",
       "      <td>2021</td>\n",
       "      <td>2.5</td>\n",
       "      <td>-0.2</td>\n",
       "    </tr>\n",
       "    <tr>\n",
       "      <th>2</th>\n",
       "      <td>Manzana</td>\n",
       "      <td>Gala</td>\n",
       "      <td>2022</td>\n",
       "      <td>3.2</td>\n",
       "      <td>0.7</td>\n",
       "    </tr>\n",
       "  </tbody>\n",
       "</table>\n",
       "</div>"
      ],
      "text/plain": [
       "      item variety  year  last_price  delta\n",
       "0  Manzana    Gala  2020         2.7    0.0\n",
       "1  Manzana    Gala  2021         2.5   -0.2\n",
       "2  Manzana    Gala  2022         3.2    0.7"
      ]
     },
     "execution_count": 146,
     "metadata": {},
     "output_type": "execute_result"
    }
   ],
   "source": [
    "pd.DataFrame({\n",
    "    \"item\" : ['Manzana','Manzana','Manzana']\n",
    "    , \"variety\" : ['Gala','Gala','Gala']\n",
    "    , \"year\" : [2020,2021,2022]\n",
    "    , \"last_price\" :  [2.7,2.5,3.2]\n",
    "    , \"delta\" : [0, (2.5-2.7), (3.2-2.5)]\n",
    "})"
   ]
  },
  {
   "cell_type": "markdown",
   "id": "1ae39539-fc9a-467c-a0cd-6ed45263a143",
   "metadata": {},
   "source": [
    "Segun nuestro ejemplo dummy para 2021 estuvo 0.2 centavos mas barato y en 2022 estuvo 0.7 centavos caro"
   ]
  },
  {
   "cell_type": "code",
   "execution_count": 192,
   "id": "ad63ccc0-c2f6-44ed-8d41-4788b4cf69a1",
   "metadata": {
    "ExecuteTime": {
     "end_time": "2022-04-11T05:03:58.790098Z",
     "start_time": "2022-04-11T05:03:58.760608Z"
    }
   },
   "outputs": [
    {
     "data": {
      "text/html": [
       "<div>\n",
       "<style scoped>\n",
       "    .dataframe tbody tr th:only-of-type {\n",
       "        vertical-align: middle;\n",
       "    }\n",
       "\n",
       "    .dataframe tbody tr th {\n",
       "        vertical-align: top;\n",
       "    }\n",
       "\n",
       "    .dataframe thead th {\n",
       "        text-align: right;\n",
       "    }\n",
       "</style>\n",
       "<table border=\"1\" class=\"dataframe\">\n",
       "  <thead>\n",
       "    <tr style=\"text-align: right;\">\n",
       "      <th></th>\n",
       "      <th>item</th>\n",
       "      <th>variety</th>\n",
       "      <th>year</th>\n",
       "      <th>last_price</th>\n",
       "      <th>delta</th>\n",
       "    </tr>\n",
       "  </thead>\n",
       "  <tbody>\n",
       "    <tr>\n",
       "      <th>9642</th>\n",
       "      <td>alstromeria</td>\n",
       "      <td>indoor</td>\n",
       "      <td>2017</td>\n",
       "      <td>0.27</td>\n",
       "      <td>NaN</td>\n",
       "    </tr>\n",
       "    <tr>\n",
       "      <th>9267</th>\n",
       "      <td>alstromeria</td>\n",
       "      <td>indoor</td>\n",
       "      <td>2018</td>\n",
       "      <td>0.29</td>\n",
       "      <td>0.02</td>\n",
       "    </tr>\n",
       "    <tr>\n",
       "      <th>9593</th>\n",
       "      <td>apples</td>\n",
       "      <td>bramleys_seedling</td>\n",
       "      <td>2017</td>\n",
       "      <td>0.73</td>\n",
       "      <td>0.44</td>\n",
       "    </tr>\n",
       "    <tr>\n",
       "      <th>9594</th>\n",
       "      <td>apples</td>\n",
       "      <td>coxs_orange_group</td>\n",
       "      <td>2017</td>\n",
       "      <td>0.75</td>\n",
       "      <td>0.02</td>\n",
       "    </tr>\n",
       "    <tr>\n",
       "      <th>9595</th>\n",
       "      <td>apples</td>\n",
       "      <td>egremont_russet</td>\n",
       "      <td>2017</td>\n",
       "      <td>0.82</td>\n",
       "      <td>0.07</td>\n",
       "    </tr>\n",
       "    <tr>\n",
       "      <th>...</th>\n",
       "      <td>...</td>\n",
       "      <td>...</td>\n",
       "      <td>...</td>\n",
       "      <td>...</td>\n",
       "      <td>...</td>\n",
       "    </tr>\n",
       "    <tr>\n",
       "      <th>2474</th>\n",
       "      <td>turnip</td>\n",
       "      <td>turnip</td>\n",
       "      <td>2021</td>\n",
       "      <td>1.69</td>\n",
       "      <td>0.62</td>\n",
       "    </tr>\n",
       "    <tr>\n",
       "      <th>311</th>\n",
       "      <td>turnip</td>\n",
       "      <td>turnip</td>\n",
       "      <td>2022</td>\n",
       "      <td>1.87</td>\n",
       "      <td>0.18</td>\n",
       "    </tr>\n",
       "    <tr>\n",
       "      <th>9641</th>\n",
       "      <td>watercress</td>\n",
       "      <td>pillow_packs</td>\n",
       "      <td>2017</td>\n",
       "      <td>8.04</td>\n",
       "      <td>6.17</td>\n",
       "    </tr>\n",
       "    <tr>\n",
       "      <th>9266</th>\n",
       "      <td>watercress</td>\n",
       "      <td>pillow_packs</td>\n",
       "      <td>2018</td>\n",
       "      <td>11.09</td>\n",
       "      <td>3.05</td>\n",
       "    </tr>\n",
       "    <tr>\n",
       "      <th>6911</th>\n",
       "      <td>watercress</td>\n",
       "      <td>pillow_packs</td>\n",
       "      <td>2019</td>\n",
       "      <td>6.58</td>\n",
       "      <td>-4.51</td>\n",
       "    </tr>\n",
       "  </tbody>\n",
       "</table>\n",
       "<p>397 rows × 5 columns</p>\n",
       "</div>"
      ],
      "text/plain": [
       "             item            variety  year  last_price  delta\n",
       "9642  alstromeria             indoor  2017        0.27    NaN\n",
       "9267  alstromeria             indoor  2018        0.29   0.02\n",
       "9593       apples  bramleys_seedling  2017        0.73   0.44\n",
       "9594       apples  coxs_orange_group  2017        0.75   0.02\n",
       "9595       apples    egremont_russet  2017        0.82   0.07\n",
       "...           ...                ...   ...         ...    ...\n",
       "2474       turnip             turnip  2021        1.69   0.62\n",
       "311        turnip             turnip  2022        1.87   0.18\n",
       "9641   watercress       pillow_packs  2017        8.04   6.17\n",
       "9266   watercress       pillow_packs  2018       11.09   3.05\n",
       "6911   watercress       pillow_packs  2019        6.58  -4.51\n",
       "\n",
       "[397 rows x 5 columns]"
      ]
     },
     "execution_count": 192,
     "metadata": {},
     "output_type": "execute_result"
    }
   ],
   "source": [
    "x3 = x2\n",
    "x3[\"delta\"] = x3[\"last_price\"] - x3[\"last_price\"].shift(1)\n",
    "x3"
   ]
  },
  {
   "cell_type": "markdown",
   "id": "e7bee68e-b5fd-4fda-874c-619a3b44335d",
   "metadata": {},
   "source": [
    "### Ejercicio cinco: Cual es precio promedio por item, variety\n",
    "\n",
    "Ejemplo de como se debe de mostrar su respuesta"
   ]
  },
  {
   "cell_type": "code",
   "execution_count": 148,
   "id": "7041ea50-4254-42d2-bf10-3c9ccda9a81f",
   "metadata": {
    "ExecuteTime": {
     "end_time": "2022-04-11T04:43:42.367209Z",
     "start_time": "2022-04-11T04:43:42.342214Z"
    }
   },
   "outputs": [
    {
     "data": {
      "text/html": [
       "<div>\n",
       "<style scoped>\n",
       "    .dataframe tbody tr th:only-of-type {\n",
       "        vertical-align: middle;\n",
       "    }\n",
       "\n",
       "    .dataframe tbody tr th {\n",
       "        vertical-align: top;\n",
       "    }\n",
       "\n",
       "    .dataframe thead th {\n",
       "        text-align: right;\n",
       "    }\n",
       "</style>\n",
       "<table border=\"1\" class=\"dataframe\">\n",
       "  <thead>\n",
       "    <tr style=\"text-align: right;\">\n",
       "      <th></th>\n",
       "      <th>item</th>\n",
       "      <th>variety</th>\n",
       "      <th>year-month</th>\n",
       "      <th>avg-price</th>\n",
       "    </tr>\n",
       "  </thead>\n",
       "  <tbody>\n",
       "    <tr>\n",
       "      <th>0</th>\n",
       "      <td>Manzana</td>\n",
       "      <td>Gala</td>\n",
       "      <td>2021-01</td>\n",
       "      <td>0.5</td>\n",
       "    </tr>\n",
       "  </tbody>\n",
       "</table>\n",
       "</div>"
      ],
      "text/plain": [
       "      item variety year-month  avg-price\n",
       "0  Manzana    Gala    2021-01        0.5"
      ]
     },
     "execution_count": 148,
     "metadata": {},
     "output_type": "execute_result"
    }
   ],
   "source": [
    "pd.DataFrame({\n",
    "    \"item\" : ['Manzana']\n",
    "    , \"variety\" : ['Gala']\n",
    "    , \"year-month\" : ['2021-01']   \n",
    "    , \"avg-price\" : [0.5]\n",
    "})"
   ]
  },
  {
   "cell_type": "code",
   "execution_count": 200,
   "id": "df21033d-e2d5-447d-be95-d4f605c22f5d",
   "metadata": {
    "ExecuteTime": {
     "end_time": "2022-04-11T05:05:30.677398Z",
     "start_time": "2022-04-11T05:05:30.637417Z"
    }
   },
   "outputs": [
    {
     "data": {
      "text/html": [
       "<div>\n",
       "<style scoped>\n",
       "    .dataframe tbody tr th:only-of-type {\n",
       "        vertical-align: middle;\n",
       "    }\n",
       "\n",
       "    .dataframe tbody tr th {\n",
       "        vertical-align: top;\n",
       "    }\n",
       "\n",
       "    .dataframe thead th {\n",
       "        text-align: right;\n",
       "    }\n",
       "</style>\n",
       "<table border=\"1\" class=\"dataframe\">\n",
       "  <thead>\n",
       "    <tr style=\"text-align: right;\">\n",
       "      <th></th>\n",
       "      <th>item</th>\n",
       "      <th>variety</th>\n",
       "      <th>year</th>\n",
       "      <th>AVG-Price</th>\n",
       "    </tr>\n",
       "  </thead>\n",
       "  <tbody>\n",
       "    <tr>\n",
       "      <th>0</th>\n",
       "      <td>alstromeria</td>\n",
       "      <td>indoor</td>\n",
       "      <td>2017</td>\n",
       "      <td>0.275000</td>\n",
       "    </tr>\n",
       "    <tr>\n",
       "      <th>1</th>\n",
       "      <td>alstromeria</td>\n",
       "      <td>indoor</td>\n",
       "      <td>2018</td>\n",
       "      <td>0.282200</td>\n",
       "    </tr>\n",
       "    <tr>\n",
       "      <th>2</th>\n",
       "      <td>apples</td>\n",
       "      <td>braeburn</td>\n",
       "      <td>2017</td>\n",
       "      <td>0.685000</td>\n",
       "    </tr>\n",
       "    <tr>\n",
       "      <th>3</th>\n",
       "      <td>apples</td>\n",
       "      <td>braeburn</td>\n",
       "      <td>2018</td>\n",
       "      <td>0.780833</td>\n",
       "    </tr>\n",
       "    <tr>\n",
       "      <th>4</th>\n",
       "      <td>apples</td>\n",
       "      <td>braeburn</td>\n",
       "      <td>2019</td>\n",
       "      <td>0.865581</td>\n",
       "    </tr>\n",
       "    <tr>\n",
       "      <th>...</th>\n",
       "      <td>...</td>\n",
       "      <td>...</td>\n",
       "      <td>...</td>\n",
       "      <td>...</td>\n",
       "    </tr>\n",
       "    <tr>\n",
       "      <th>392</th>\n",
       "      <td>turnip</td>\n",
       "      <td>turnip</td>\n",
       "      <td>2021</td>\n",
       "      <td>1.438400</td>\n",
       "    </tr>\n",
       "    <tr>\n",
       "      <th>393</th>\n",
       "      <td>turnip</td>\n",
       "      <td>turnip</td>\n",
       "      <td>2022</td>\n",
       "      <td>1.319000</td>\n",
       "    </tr>\n",
       "    <tr>\n",
       "      <th>394</th>\n",
       "      <td>watercress</td>\n",
       "      <td>pillow_packs</td>\n",
       "      <td>2017</td>\n",
       "      <td>10.506250</td>\n",
       "    </tr>\n",
       "    <tr>\n",
       "      <th>395</th>\n",
       "      <td>watercress</td>\n",
       "      <td>pillow_packs</td>\n",
       "      <td>2018</td>\n",
       "      <td>9.516400</td>\n",
       "    </tr>\n",
       "    <tr>\n",
       "      <th>396</th>\n",
       "      <td>watercress</td>\n",
       "      <td>pillow_packs</td>\n",
       "      <td>2019</td>\n",
       "      <td>8.899118</td>\n",
       "    </tr>\n",
       "  </tbody>\n",
       "</table>\n",
       "<p>397 rows × 4 columns</p>\n",
       "</div>"
      ],
      "text/plain": [
       "            item       variety  year  AVG-Price\n",
       "0    alstromeria        indoor  2017   0.275000\n",
       "1    alstromeria        indoor  2018   0.282200\n",
       "2         apples      braeburn  2017   0.685000\n",
       "3         apples      braeburn  2018   0.780833\n",
       "4         apples      braeburn  2019   0.865581\n",
       "..           ...           ...   ...        ...\n",
       "392       turnip        turnip  2021   1.438400\n",
       "393       turnip        turnip  2022   1.319000\n",
       "394   watercress  pillow_packs  2017  10.506250\n",
       "395   watercress  pillow_packs  2018   9.516400\n",
       "396   watercress  pillow_packs  2019   8.899118\n",
       "\n",
       "[397 rows x 4 columns]"
      ]
     },
     "execution_count": 200,
     "metadata": {},
     "output_type": "execute_result"
    }
   ],
   "source": [
    "x4 = x2\n",
    "x4 = vdf.groupby([\"item\",\"variety\", \"year\"], as_index = False)[\"price\"].agg({\"AVG-Price\":\"mean\"})\n",
    "x4"
   ]
  },
  {
   "cell_type": "markdown",
   "id": "00f6fd8d-62c2-4838-910e-c4f9a7cf93f3",
   "metadata": {},
   "source": [
    "### Ejercicio seis: muestre por category,item,variety que tanto % ha aumentado su precio\n",
    "\n",
    "Ejemplo: si para las manzanas gala el primer precio que se registro fue 2.00 y el ultimo precio que se registro es 4.00 este aumento un 100%"
   ]
  },
  {
   "cell_type": "code",
   "execution_count": 150,
   "id": "b6d2eff5-6029-4136-866d-2fa7afb24c4b",
   "metadata": {
    "ExecuteTime": {
     "end_time": "2022-04-11T04:43:43.032551Z",
     "start_time": "2022-04-11T04:43:43.005559Z"
    }
   },
   "outputs": [
    {
     "data": {
      "text/html": [
       "<div>\n",
       "<style scoped>\n",
       "    .dataframe tbody tr th:only-of-type {\n",
       "        vertical-align: middle;\n",
       "    }\n",
       "\n",
       "    .dataframe tbody tr th {\n",
       "        vertical-align: top;\n",
       "    }\n",
       "\n",
       "    .dataframe thead th {\n",
       "        text-align: right;\n",
       "    }\n",
       "</style>\n",
       "<table border=\"1\" class=\"dataframe\">\n",
       "  <thead>\n",
       "    <tr style=\"text-align: right;\">\n",
       "      <th></th>\n",
       "      <th>category</th>\n",
       "      <th>item</th>\n",
       "      <th>variety</th>\n",
       "      <th>percentage-change-between-first-and-last-price</th>\n",
       "    </tr>\n",
       "  </thead>\n",
       "  <tbody>\n",
       "    <tr>\n",
       "      <th>0</th>\n",
       "      <td>fruta</td>\n",
       "      <td>Manzana</td>\n",
       "      <td>Gala</td>\n",
       "      <td>200</td>\n",
       "    </tr>\n",
       "    <tr>\n",
       "      <th>1</th>\n",
       "      <td>fruta</td>\n",
       "      <td>Manzana</td>\n",
       "      <td>egremont_russet</td>\n",
       "      <td>150</td>\n",
       "    </tr>\n",
       "  </tbody>\n",
       "</table>\n",
       "</div>"
      ],
      "text/plain": [
       "  category     item          variety  \\\n",
       "0    fruta  Manzana             Gala   \n",
       "1    fruta  Manzana  egremont_russet   \n",
       "\n",
       "   percentage-change-between-first-and-last-price  \n",
       "0                                             200  \n",
       "1                                             150  "
      ]
     },
     "execution_count": 150,
     "metadata": {},
     "output_type": "execute_result"
    }
   ],
   "source": [
    "pd.DataFrame({\n",
    "    \"category\": [\"fruta\",\"fruta\"]\n",
    "    ,\"item\" : ['Manzana','Manzana']\n",
    "    , \"variety\" : ['Gala','egremont_russet']\n",
    "    , \"percentage-change-between-first-and-last-price\" : [200,150]       \n",
    "})"
   ]
  },
  {
   "cell_type": "code",
   "execution_count": null,
   "id": "10d3316e-454e-44d1-a200-6507fd02843d",
   "metadata": {},
   "outputs": [],
   "source": []
  },
  {
   "cell_type": "markdown",
   "id": "0b507b1e-35d8-4a2f-bfb2-2fa034d453a4",
   "metadata": {},
   "source": [
    "### Ejercicio siete: Segun el ejercicio seis por category cual es el item,variety con mayor aumento de crecimiento \n",
    "\n",
    "Segun el ejemplo dummy que se utilizo en el ejercicio seis para la category fruta se mostraria la manzana gala unicamente"
   ]
  },
  {
   "cell_type": "code",
   "execution_count": null,
   "id": "993b4429-8505-4e88-8fdd-3470574a41e0",
   "metadata": {},
   "outputs": [],
   "source": []
  }
 ],
 "metadata": {
  "kernelspec": {
   "display_name": "Python 3 (ipykernel)",
   "language": "python",
   "name": "python3"
  },
  "language_info": {
   "codemirror_mode": {
    "name": "ipython",
    "version": 3
   },
   "file_extension": ".py",
   "mimetype": "text/x-python",
   "name": "python",
   "nbconvert_exporter": "python",
   "pygments_lexer": "ipython3",
   "version": "3.9.7"
  },
  "toc": {
   "base_numbering": 1,
   "nav_menu": {},
   "number_sections": true,
   "sideBar": true,
   "skip_h1_title": false,
   "title_cell": "Table of Contents",
   "title_sidebar": "Contents",
   "toc_cell": false,
   "toc_position": {},
   "toc_section_display": true,
   "toc_window_display": false
  }
 },
 "nbformat": 4,
 "nbformat_minor": 5
}
